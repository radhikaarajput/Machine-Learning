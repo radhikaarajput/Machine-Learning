{
 "cells": [
  {
   "cell_type": "code",
   "execution_count": 1,
   "metadata": {},
   "outputs": [],
   "source": [
    "data=[]\n",
    "\n",
    "for x in range(111):\n",
    "    data.append([x,x])"
   ]
  },
  {
   "cell_type": "code",
   "execution_count": 2,
   "metadata": {},
   "outputs": [
    {
     "data": {
      "text/plain": [
       "[[0, 0],\n",
       " [1, 1],\n",
       " [2, 2],\n",
       " [3, 3],\n",
       " [4, 4],\n",
       " [5, 5],\n",
       " [6, 6],\n",
       " [7, 7],\n",
       " [8, 8],\n",
       " [9, 9],\n",
       " [10, 10],\n",
       " [11, 11],\n",
       " [12, 12],\n",
       " [13, 13],\n",
       " [14, 14],\n",
       " [15, 15],\n",
       " [16, 16],\n",
       " [17, 17],\n",
       " [18, 18],\n",
       " [19, 19],\n",
       " [20, 20],\n",
       " [21, 21],\n",
       " [22, 22],\n",
       " [23, 23],\n",
       " [24, 24],\n",
       " [25, 25],\n",
       " [26, 26],\n",
       " [27, 27],\n",
       " [28, 28],\n",
       " [29, 29],\n",
       " [30, 30],\n",
       " [31, 31],\n",
       " [32, 32],\n",
       " [33, 33],\n",
       " [34, 34],\n",
       " [35, 35],\n",
       " [36, 36],\n",
       " [37, 37],\n",
       " [38, 38],\n",
       " [39, 39],\n",
       " [40, 40],\n",
       " [41, 41],\n",
       " [42, 42],\n",
       " [43, 43],\n",
       " [44, 44],\n",
       " [45, 45],\n",
       " [46, 46],\n",
       " [47, 47],\n",
       " [48, 48],\n",
       " [49, 49],\n",
       " [50, 50],\n",
       " [51, 51],\n",
       " [52, 52],\n",
       " [53, 53],\n",
       " [54, 54],\n",
       " [55, 55],\n",
       " [56, 56],\n",
       " [57, 57],\n",
       " [58, 58],\n",
       " [59, 59],\n",
       " [60, 60],\n",
       " [61, 61],\n",
       " [62, 62],\n",
       " [63, 63],\n",
       " [64, 64],\n",
       " [65, 65],\n",
       " [66, 66],\n",
       " [67, 67],\n",
       " [68, 68],\n",
       " [69, 69],\n",
       " [70, 70],\n",
       " [71, 71],\n",
       " [72, 72],\n",
       " [73, 73],\n",
       " [74, 74],\n",
       " [75, 75],\n",
       " [76, 76],\n",
       " [77, 77],\n",
       " [78, 78],\n",
       " [79, 79],\n",
       " [80, 80],\n",
       " [81, 81],\n",
       " [82, 82],\n",
       " [83, 83],\n",
       " [84, 84],\n",
       " [85, 85],\n",
       " [86, 86],\n",
       " [87, 87],\n",
       " [88, 88],\n",
       " [89, 89],\n",
       " [90, 90],\n",
       " [91, 91],\n",
       " [92, 92],\n",
       " [93, 93],\n",
       " [94, 94],\n",
       " [95, 95],\n",
       " [96, 96],\n",
       " [97, 97],\n",
       " [98, 98],\n",
       " [99, 99],\n",
       " [100, 100],\n",
       " [101, 101],\n",
       " [102, 102],\n",
       " [103, 103],\n",
       " [104, 104],\n",
       " [105, 105],\n",
       " [106, 106],\n",
       " [107, 107],\n",
       " [108, 108],\n",
       " [109, 109],\n",
       " [110, 110]]"
      ]
     },
     "execution_count": 2,
     "metadata": {},
     "output_type": "execute_result"
    }
   ],
   "source": [
    "data"
   ]
  },
  {
   "cell_type": "code",
   "execution_count": 6,
   "metadata": {},
   "outputs": [
    {
     "data": {
      "text/plain": [
       "[[0, 0], [1, 1], [2, 2], [3, 3], [4, 4]]"
      ]
     },
     "execution_count": 6,
     "metadata": {},
     "output_type": "execute_result"
    }
   ],
   "source": [
    "data[0:5]"
   ]
  },
  {
   "cell_type": "code",
   "execution_count": null,
   "metadata": {},
   "outputs": [],
   "source": [
    "slope=0"
   ]
  },
  {
   "cell_type": "code",
   "execution_count": null,
   "metadata": {},
   "outputs": [],
   "source": [
    "x=data[0]"
   ]
  },
  {
   "cell_type": "code",
   "execution_count": 7,
   "metadata": {},
   "outputs": [
    {
     "ename": "TypeError",
     "evalue": "'int' object is not subscriptable",
     "output_type": "error",
     "traceback": [
      "\u001b[1;31m---------------------------------------------------------------------------\u001b[0m",
      "\u001b[1;31mTypeError\u001b[0m                                 Traceback (most recent call last)",
      "\u001b[1;32m<ipython-input-7-d8204ca01a75>\u001b[0m in \u001b[0;36m<module>\u001b[1;34m\u001b[0m\n\u001b[1;32m----> 1\u001b[1;33m \u001b[0mx\u001b[0m\u001b[1;33m[\u001b[0m\u001b[1;36m0\u001b[0m\u001b[1;33m]\u001b[0m   \u001b[1;31m#independent var\u001b[0m\u001b[1;33m\u001b[0m\u001b[1;33m\u001b[0m\u001b[0m\n\u001b[0m\u001b[0;32m      2\u001b[0m \u001b[0mx\u001b[0m\u001b[1;33m[\u001b[0m\u001b[1;36m1\u001b[0m\u001b[1;33m]\u001b[0m   \u001b[1;31m#dependent var\u001b[0m\u001b[1;33m\u001b[0m\u001b[1;33m\u001b[0m\u001b[0m\n",
      "\u001b[1;31mTypeError\u001b[0m: 'int' object is not subscriptable"
     ]
    }
   ],
   "source": [
    "x[0]   #independent var\n",
    "x[1]   #dependent var"
   ]
  },
  {
   "cell_type": "code",
   "execution_count": null,
   "metadata": {},
   "outputs": [],
   "source": [
    "y_intercept=0"
   ]
  },
  {
   "cell_type": "code",
   "execution_count": 15,
   "metadata": {},
   "outputs": [],
   "source": [
    "#This typle has 2 values x=x[0], y=x[1]\n",
    "#data is list tuples\n",
    "def calculate_cost(slope, y_intercept, data):\n",
    "    total_cost = 0             #let error=0 initially\n",
    "    for x in data:\n",
    "        hypothesis= slope*x[0]+y_intercept        #predicyed value\n",
    "        difference= (hypothesis-x[1])**2       #error\n",
    "        total_cost= total_cost+difference       \n",
    "    total_cost= total_cost*(1/(2*len(data)))   #1/2m\n",
    "    return total_cost"
   ]
  },
  {
   "cell_type": "code",
   "execution_count": null,
   "metadata": {},
   "outputs": [],
   "source": [
    "learning_rate= 0.001"
   ]
  },
  {
   "cell_type": "code",
   "execution_count": 39,
   "metadata": {},
   "outputs": [],
   "source": [
    "difference=0\n",
    "def calculate_slope(slope, y_intercept, data, learning_rate):\n",
    "    total_cost = 0             \n",
    "    for x in data:\n",
    "        hypothesis= slope*x[0]+y_intercept        \n",
    "        difference = difference+ (hypothesis-x[1])*x[0]\n",
    "        total_cost= total_cost+difference\n",
    "        \n",
    "    total_cost=total_cost*learning_rate*(1/(len(data)))\n",
    "    slope= slope-total_cost\n",
    "    return slope\n",
    "    "
   ]
  },
  {
   "cell_type": "code",
   "execution_count": 35,
   "metadata": {},
   "outputs": [],
   "source": [
    "def calculate_intercept(slope, y_intercept, data, learning_rate):\n",
    "    total_cost = 0             \n",
    "    for x in data:\n",
    "        hypothesis= slope*x[0]+y_intercept        \n",
    "        difference+= (hypothesis-x[1])\n",
    "        total_cost= total_cost+difference\n",
    "        \n",
    "    total_cost=learning_rate*(1/(len(data)))*total_cost\n",
    "    y_intercept= y_intercept-total_cost\n",
    "    return y_intercept\n",
    "    "
   ]
  },
  {
   "cell_type": "code",
   "execution_count": 10,
   "metadata": {},
   "outputs": [],
   "source": [
    "import pandas as pd"
   ]
  },
  {
   "cell_type": "code",
   "execution_count": 22,
   "metadata": {},
   "outputs": [],
   "source": [
    "y_intercept=0"
   ]
  },
  {
   "cell_type": "code",
   "execution_count": 23,
   "metadata": {},
   "outputs": [],
   "source": [
    "learning_rate=0.00001"
   ]
  },
  {
   "cell_type": "code",
   "execution_count": 24,
   "metadata": {},
   "outputs": [],
   "source": [
    "slope=8"
   ]
  },
  {
   "cell_type": "code",
   "execution_count": 27,
   "metadata": {},
   "outputs": [],
   "source": [
    "cost =calculate_cost(slope, y_intercept, data)"
   ]
  },
  {
   "cell_type": "code",
   "execution_count": 40,
   "metadata": {
    "scrolled": true
   },
   "outputs": [
    {
     "ename": "UnboundLocalError",
     "evalue": "local variable 'difference' referenced before assignment",
     "output_type": "error",
     "traceback": [
      "\u001b[1;31m---------------------------------------------------------------------------\u001b[0m",
      "\u001b[1;31mUnboundLocalError\u001b[0m                         Traceback (most recent call last)",
      "\u001b[1;32m<ipython-input-40-2ca9ff124261>\u001b[0m in \u001b[0;36m<module>\u001b[1;34m\u001b[0m\n\u001b[0;32m      4\u001b[0m \u001b[0mprevious_cost\u001b[0m\u001b[1;33m=\u001b[0m \u001b[0mcost\u001b[0m\u001b[1;33m+\u001b[0m\u001b[1;36m1\u001b[0m\u001b[1;33m\u001b[0m\u001b[1;33m\u001b[0m\u001b[0m\n\u001b[0;32m      5\u001b[0m \u001b[1;32mwhile\u001b[0m \u001b[0mprevious_cost\u001b[0m\u001b[1;33m>\u001b[0m\u001b[0mcost\u001b[0m\u001b[1;33m:\u001b[0m\u001b[1;33m\u001b[0m\u001b[1;33m\u001b[0m\u001b[0m\n\u001b[1;32m----> 6\u001b[1;33m     \u001b[0mslope\u001b[0m\u001b[1;33m=\u001b[0m\u001b[0mcalculate_slope\u001b[0m\u001b[1;33m(\u001b[0m\u001b[0mslope\u001b[0m\u001b[1;33m,\u001b[0m \u001b[0my_intercept\u001b[0m\u001b[1;33m,\u001b[0m \u001b[0mdata\u001b[0m\u001b[1;33m,\u001b[0m \u001b[0mlearning_rate\u001b[0m\u001b[1;33m)\u001b[0m\u001b[1;33m\u001b[0m\u001b[1;33m\u001b[0m\u001b[0m\n\u001b[0m\u001b[0;32m      7\u001b[0m     \u001b[0my_intercept\u001b[0m\u001b[1;33m=\u001b[0m\u001b[0mcalculate_intercept\u001b[0m\u001b[1;33m(\u001b[0m\u001b[0mslope\u001b[0m\u001b[1;33m,\u001b[0m \u001b[0my_intercept\u001b[0m\u001b[1;33m,\u001b[0m \u001b[0mdata\u001b[0m\u001b[1;33m,\u001b[0m \u001b[0mlearning_rate\u001b[0m\u001b[1;33m)\u001b[0m\u001b[1;33m\u001b[0m\u001b[1;33m\u001b[0m\u001b[0m\n\u001b[0;32m      8\u001b[0m     \u001b[0mprevious_cost\u001b[0m\u001b[1;33m=\u001b[0m \u001b[0mcost\u001b[0m\u001b[1;33m\u001b[0m\u001b[1;33m\u001b[0m\u001b[0m\n",
      "\u001b[1;32m<ipython-input-39-55475a13b8e4>\u001b[0m in \u001b[0;36mcalculate_slope\u001b[1;34m(slope, y_intercept, data, learning_rate)\u001b[0m\n\u001b[0;32m      4\u001b[0m     \u001b[1;32mfor\u001b[0m \u001b[0mx\u001b[0m \u001b[1;32min\u001b[0m \u001b[0mdata\u001b[0m\u001b[1;33m:\u001b[0m\u001b[1;33m\u001b[0m\u001b[1;33m\u001b[0m\u001b[0m\n\u001b[0;32m      5\u001b[0m         \u001b[0mhypothesis\u001b[0m\u001b[1;33m=\u001b[0m \u001b[0mslope\u001b[0m\u001b[1;33m*\u001b[0m\u001b[0mx\u001b[0m\u001b[1;33m[\u001b[0m\u001b[1;36m0\u001b[0m\u001b[1;33m]\u001b[0m\u001b[1;33m+\u001b[0m\u001b[0my_intercept\u001b[0m\u001b[1;33m\u001b[0m\u001b[1;33m\u001b[0m\u001b[0m\n\u001b[1;32m----> 6\u001b[1;33m         \u001b[0mdifference\u001b[0m \u001b[1;33m=\u001b[0m \u001b[0mdifference\u001b[0m\u001b[1;33m+\u001b[0m \u001b[1;33m(\u001b[0m\u001b[0mhypothesis\u001b[0m\u001b[1;33m-\u001b[0m\u001b[0mx\u001b[0m\u001b[1;33m[\u001b[0m\u001b[1;36m1\u001b[0m\u001b[1;33m]\u001b[0m\u001b[1;33m)\u001b[0m\u001b[1;33m*\u001b[0m\u001b[0mx\u001b[0m\u001b[1;33m[\u001b[0m\u001b[1;36m0\u001b[0m\u001b[1;33m]\u001b[0m\u001b[1;33m\u001b[0m\u001b[1;33m\u001b[0m\u001b[0m\n\u001b[0m\u001b[0;32m      7\u001b[0m         \u001b[0mtotal_cost\u001b[0m\u001b[1;33m=\u001b[0m \u001b[0mtotal_cost\u001b[0m\u001b[1;33m+\u001b[0m\u001b[0mdifference\u001b[0m\u001b[1;33m\u001b[0m\u001b[1;33m\u001b[0m\u001b[0m\n\u001b[0;32m      8\u001b[0m \u001b[1;33m\u001b[0m\u001b[0m\n",
      "\u001b[1;31mUnboundLocalError\u001b[0m: local variable 'difference' referenced before assignment"
     ]
    }
   ],
   "source": [
    "#This typle has 2 values x=x[0], y=x[1]\n",
    "#data is list tuples\n",
    "# and abs[cost - previous_cost]>0.01:\n",
    "previous_cost= cost+1\n",
    "while previous_cost>cost:\n",
    "    slope=calculate_slope(slope, y_intercept, data, learning_rate)\n",
    "    y_intercept=calculate_intercept(slope, y_intercept, data, learning_rate)\n",
    "    previous_cost= cost\n",
    "    cost=calculate_cost(slope, y_intercept, data)\n",
    "\n",
    "print(cost)\n",
    "print(slope)\n",
    "print(intercept)"
   ]
  },
  {
   "cell_type": "code",
   "execution_count": null,
   "metadata": {},
   "outputs": [],
   "source": []
  }
 ],
 "metadata": {
  "kernelspec": {
   "display_name": "Python 3",
   "language": "python",
   "name": "python3"
  },
  "language_info": {
   "codemirror_mode": {
    "name": "ipython",
    "version": 3
   },
   "file_extension": ".py",
   "mimetype": "text/x-python",
   "name": "python",
   "nbconvert_exporter": "python",
   "pygments_lexer": "ipython3",
   "version": "3.6.10"
  }
 },
 "nbformat": 4,
 "nbformat_minor": 4
}
